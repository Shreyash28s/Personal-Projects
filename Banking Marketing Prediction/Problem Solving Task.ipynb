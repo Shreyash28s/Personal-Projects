{
 "cells": [
  {
   "cell_type": "markdown",
   "id": "05fa94db-e18f-45e4-b47e-38d7c85909c8",
   "metadata": {},
   "source": [
    "# The data is related with direct marketing campaigns (phone calls) of a Portuguese banking institution. The classification goal is to predict if the client will subscribe a term deposit (variable y)."
   ]
  },
  {
   "cell_type": "markdown",
   "id": "0e5597a1-04be-4831-85aa-b7852fa63daf",
   "metadata": {},
   "source": [
    "## 1. Load  “bank-full.csv” dataset and create a logistic regression model for predicting target variable (subscribed a term deposit or not). Use appropriate evaluation methods and report the performance of the model using appropriate metrics."
   ]
  },
  {
   "cell_type": "markdown",
   "id": "02203441-9fb9-42cf-be53-379f4fb676ae",
   "metadata": {},
   "source": [
    "### Preprocessing\n"
   ]
  },
  {
   "cell_type": "raw",
   "id": "1170b1bd-b3db-495c-bd52-07aff2baaeb9",
   "metadata": {},
   "source": [
    "Logistic regression is used for classification - gives a probability value that the target variable will be in a class"
   ]
  },
  {
   "cell_type": "code",
   "execution_count": 215,
   "id": "c4d2f0a9-a815-460d-85a9-c6fe8f8b8285",
   "metadata": {},
   "outputs": [],
   "source": [
    "import pandas as pd\n",
    "import numpy as np\n",
    "from sklearn.preprocessing import OneHotEncoder\n",
    "from sklearn.preprocessing import LabelEncoder\n",
    "from sklearn.model_selection import train_test_split\n",
    "from sklearn.preprocessing import StandardScaler\n",
    "from sklearn.linear_model import LogisticRegression\n",
    "from sklearn.metrics import (\n",
    "    accuracy_score, precision_score, recall_score,\n",
    "    f1_score, roc_auc_score, confusion_matrix, classification_report,average_precision_score,precision_recall_curve\n",
    ")\n",
    "import seaborn as sns\n",
    "import matplotlib.pyplot as plt\n",
    "\n",
    "import os\n",
    "os.environ[\"LOKY_MAX_CPU_COUNT\"] = str(os.cpu_count() or 1) ## added this to fix errors in q5 code"
   ]
  },
  {
   "cell_type": "markdown",
   "id": "90579082-cb73-43e8-8e7c-80438aeceb97",
   "metadata": {},
   "source": [
    "### Loading dataset and preprocessing \n"
   ]
  },
  {
   "cell_type": "code",
   "execution_count": 149,
   "id": "6cfdc48b-f058-4bed-a130-dcc881a4a72d",
   "metadata": {
    "collapsed": true,
    "jupyter": {
     "outputs_hidden": true
    }
   },
   "outputs": [
    {
     "name": "stdout",
     "output_type": "stream",
     "text": [
      "Shape:  (45211, 17)\n"
     ]
    }
   ],
   "source": [
    "df = pd.read_csv(\"bank-full.csv\", sep=\";\") # use \";\" as delimiter to split the columns properly\n",
    "print(\"Shape: \",  df.shape)"
   ]
  },
  {
   "cell_type": "code",
   "execution_count": 150,
   "id": "57dfe6e7-3a06-41a9-b9e5-d416c84f6ba3",
   "metadata": {
    "collapsed": true,
    "jupyter": {
     "outputs_hidden": true
    }
   },
   "outputs": [
    {
     "data": {
      "text/html": [
       "<div>\n",
       "<style scoped>\n",
       "    .dataframe tbody tr th:only-of-type {\n",
       "        vertical-align: middle;\n",
       "    }\n",
       "\n",
       "    .dataframe tbody tr th {\n",
       "        vertical-align: top;\n",
       "    }\n",
       "\n",
       "    .dataframe thead th {\n",
       "        text-align: right;\n",
       "    }\n",
       "</style>\n",
       "<table border=\"1\" class=\"dataframe\">\n",
       "  <thead>\n",
       "    <tr style=\"text-align: right;\">\n",
       "      <th></th>\n",
       "      <th>age</th>\n",
       "      <th>job</th>\n",
       "      <th>marital</th>\n",
       "      <th>education</th>\n",
       "      <th>default</th>\n",
       "      <th>balance</th>\n",
       "      <th>housing</th>\n",
       "      <th>loan</th>\n",
       "      <th>contact</th>\n",
       "      <th>day</th>\n",
       "      <th>month</th>\n",
       "      <th>duration</th>\n",
       "      <th>campaign</th>\n",
       "      <th>pdays</th>\n",
       "      <th>previous</th>\n",
       "      <th>poutcome</th>\n",
       "      <th>y</th>\n",
       "    </tr>\n",
       "  </thead>\n",
       "  <tbody>\n",
       "    <tr>\n",
       "      <th>0</th>\n",
       "      <td>58</td>\n",
       "      <td>management</td>\n",
       "      <td>married</td>\n",
       "      <td>tertiary</td>\n",
       "      <td>no</td>\n",
       "      <td>2143</td>\n",
       "      <td>yes</td>\n",
       "      <td>no</td>\n",
       "      <td>unknown</td>\n",
       "      <td>5</td>\n",
       "      <td>may</td>\n",
       "      <td>261</td>\n",
       "      <td>1</td>\n",
       "      <td>-1</td>\n",
       "      <td>0</td>\n",
       "      <td>unknown</td>\n",
       "      <td>no</td>\n",
       "    </tr>\n",
       "    <tr>\n",
       "      <th>1</th>\n",
       "      <td>44</td>\n",
       "      <td>technician</td>\n",
       "      <td>single</td>\n",
       "      <td>secondary</td>\n",
       "      <td>no</td>\n",
       "      <td>29</td>\n",
       "      <td>yes</td>\n",
       "      <td>no</td>\n",
       "      <td>unknown</td>\n",
       "      <td>5</td>\n",
       "      <td>may</td>\n",
       "      <td>151</td>\n",
       "      <td>1</td>\n",
       "      <td>-1</td>\n",
       "      <td>0</td>\n",
       "      <td>unknown</td>\n",
       "      <td>no</td>\n",
       "    </tr>\n",
       "    <tr>\n",
       "      <th>2</th>\n",
       "      <td>33</td>\n",
       "      <td>entrepreneur</td>\n",
       "      <td>married</td>\n",
       "      <td>secondary</td>\n",
       "      <td>no</td>\n",
       "      <td>2</td>\n",
       "      <td>yes</td>\n",
       "      <td>yes</td>\n",
       "      <td>unknown</td>\n",
       "      <td>5</td>\n",
       "      <td>may</td>\n",
       "      <td>76</td>\n",
       "      <td>1</td>\n",
       "      <td>-1</td>\n",
       "      <td>0</td>\n",
       "      <td>unknown</td>\n",
       "      <td>no</td>\n",
       "    </tr>\n",
       "    <tr>\n",
       "      <th>3</th>\n",
       "      <td>47</td>\n",
       "      <td>blue-collar</td>\n",
       "      <td>married</td>\n",
       "      <td>unknown</td>\n",
       "      <td>no</td>\n",
       "      <td>1506</td>\n",
       "      <td>yes</td>\n",
       "      <td>no</td>\n",
       "      <td>unknown</td>\n",
       "      <td>5</td>\n",
       "      <td>may</td>\n",
       "      <td>92</td>\n",
       "      <td>1</td>\n",
       "      <td>-1</td>\n",
       "      <td>0</td>\n",
       "      <td>unknown</td>\n",
       "      <td>no</td>\n",
       "    </tr>\n",
       "    <tr>\n",
       "      <th>4</th>\n",
       "      <td>33</td>\n",
       "      <td>unknown</td>\n",
       "      <td>single</td>\n",
       "      <td>unknown</td>\n",
       "      <td>no</td>\n",
       "      <td>1</td>\n",
       "      <td>no</td>\n",
       "      <td>no</td>\n",
       "      <td>unknown</td>\n",
       "      <td>5</td>\n",
       "      <td>may</td>\n",
       "      <td>198</td>\n",
       "      <td>1</td>\n",
       "      <td>-1</td>\n",
       "      <td>0</td>\n",
       "      <td>unknown</td>\n",
       "      <td>no</td>\n",
       "    </tr>\n",
       "  </tbody>\n",
       "</table>\n",
       "</div>"
      ],
      "text/plain": [
       "   age           job  marital  education default  balance housing loan  \\\n",
       "0   58    management  married   tertiary      no     2143     yes   no   \n",
       "1   44    technician   single  secondary      no       29     yes   no   \n",
       "2   33  entrepreneur  married  secondary      no        2     yes  yes   \n",
       "3   47   blue-collar  married    unknown      no     1506     yes   no   \n",
       "4   33       unknown   single    unknown      no        1      no   no   \n",
       "\n",
       "   contact  day month  duration  campaign  pdays  previous poutcome   y  \n",
       "0  unknown    5   may       261         1     -1         0  unknown  no  \n",
       "1  unknown    5   may       151         1     -1         0  unknown  no  \n",
       "2  unknown    5   may        76         1     -1         0  unknown  no  \n",
       "3  unknown    5   may        92         1     -1         0  unknown  no  \n",
       "4  unknown    5   may       198         1     -1         0  unknown  no  "
      ]
     },
     "execution_count": 150,
     "metadata": {},
     "output_type": "execute_result"
    }
   ],
   "source": [
    "df.head()"
   ]
  },
  {
   "cell_type": "code",
   "execution_count": 151,
   "id": "c881d18b-8085-4270-8602-4bd38dae34f9",
   "metadata": {
    "collapsed": true,
    "jupyter": {
     "outputs_hidden": true
    }
   },
   "outputs": [
    {
     "name": "stdout",
     "output_type": "stream",
     "text": [
      "<class 'pandas.core.frame.DataFrame'>\n",
      "RangeIndex: 45211 entries, 0 to 45210\n",
      "Data columns (total 17 columns):\n",
      " #   Column     Non-Null Count  Dtype \n",
      "---  ------     --------------  ----- \n",
      " 0   age        45211 non-null  int64 \n",
      " 1   job        45211 non-null  object\n",
      " 2   marital    45211 non-null  object\n",
      " 3   education  45211 non-null  object\n",
      " 4   default    45211 non-null  object\n",
      " 5   balance    45211 non-null  int64 \n",
      " 6   housing    45211 non-null  object\n",
      " 7   loan       45211 non-null  object\n",
      " 8   contact    45211 non-null  object\n",
      " 9   day        45211 non-null  int64 \n",
      " 10  month      45211 non-null  object\n",
      " 11  duration   45211 non-null  int64 \n",
      " 12  campaign   45211 non-null  int64 \n",
      " 13  pdays      45211 non-null  int64 \n",
      " 14  previous   45211 non-null  int64 \n",
      " 15  poutcome   45211 non-null  object\n",
      " 16  y          45211 non-null  object\n",
      "dtypes: int64(7), object(10)\n",
      "memory usage: 5.9+ MB\n"
     ]
    }
   ],
   "source": [
    "df.info()"
   ]
  },
  {
   "cell_type": "raw",
   "id": "25c2509e-cd3a-422e-8ea1-a984ca206271",
   "metadata": {},
   "source": [
    "No null values since non-null count is same as number of entries.\n",
    "Next step is to seperate the features(X) from the target(Y)"
   ]
  },
  {
   "cell_type": "code",
   "execution_count": 152,
   "id": "2aa3d1ce-26e6-4c6f-aef1-b73c6b6f63f4",
   "metadata": {
    "collapsed": true,
    "jupyter": {
     "outputs_hidden": true
    }
   },
   "outputs": [
    {
     "name": "stdout",
     "output_type": "stream",
     "text": [
      "Shape of X:  (45211, 16)\n",
      "   age           job  marital  education default  balance housing loan  \\\n",
      "0   58    management  married   tertiary      no     2143     yes   no   \n",
      "1   44    technician   single  secondary      no       29     yes   no   \n",
      "2   33  entrepreneur  married  secondary      no        2     yes  yes   \n",
      "3   47   blue-collar  married    unknown      no     1506     yes   no   \n",
      "4   33       unknown   single    unknown      no        1      no   no   \n",
      "\n",
      "   contact  day month  duration  campaign  pdays  previous poutcome  \n",
      "0  unknown    5   may       261         1     -1         0  unknown  \n",
      "1  unknown    5   may       151         1     -1         0  unknown  \n",
      "2  unknown    5   may        76         1     -1         0  unknown  \n",
      "3  unknown    5   may        92         1     -1         0  unknown  \n",
      "4  unknown    5   may       198         1     -1         0  unknown  \n",
      "\n",
      "Shape of Y:  (45211,)\n",
      "0    no\n",
      "1    no\n",
      "2    no\n",
      "3    no\n",
      "4    no\n",
      "Name: y, dtype: object\n"
     ]
    }
   ],
   "source": [
    "X = df.drop('y', axis=1) # axis=1 means splits between columns and not rows \n",
    "Y = df['y']\n",
    "\n",
    "# check shapes and peek features and target dataframes\n",
    "print(\"Shape of X: \", X.shape)\n",
    "print(X.head())\n",
    "print(\"\\nShape of Y: \", Y.shape)\n",
    "print(Y.head())"
   ]
  },
  {
   "cell_type": "markdown",
   "id": "c793ee0d-afdd-4300-b3d4-8a905135b93f",
   "metadata": {},
   "source": [
    "### Encode categorical values in X and encode Y "
   ]
  },
  {
   "cell_type": "raw",
   "id": "a3971ed7-786e-4058-a480-c401cca32087",
   "metadata": {},
   "source": [
    "Use labelEncoder for ordinal categories or binary values and Use oneHotEncoder for nominal categorical features "
   ]
  },
  {
   "cell_type": "code",
   "execution_count": 154,
   "id": "6213efaa-8bb1-4f2c-808c-3b86b7fddf80",
   "metadata": {
    "collapsed": true,
    "jupyter": {
     "outputs_hidden": true
    }
   },
   "outputs": [
    {
     "name": "stdout",
     "output_type": "stream",
     "text": [
      "(45211, 42)\n",
      "   age  balance  day  duration  campaign  pdays  previous  default  housing  \\\n",
      "0   58     2143    5       261         1     -1         0        0        1   \n",
      "1   44       29    5       151         1     -1         0        0        1   \n",
      "2   33        2    5        76         1     -1         0        0        1   \n",
      "3   47     1506    5        92         1     -1         0        0        1   \n",
      "4   33        1    5       198         1     -1         0        0        0   \n",
      "\n",
      "   loan  ...  month_jul  month_jun  month_mar  month_may  month_nov  \\\n",
      "0     0  ...        0.0        0.0        0.0        1.0        0.0   \n",
      "1     0  ...        0.0        0.0        0.0        1.0        0.0   \n",
      "2     1  ...        0.0        0.0        0.0        1.0        0.0   \n",
      "3     0  ...        0.0        0.0        0.0        1.0        0.0   \n",
      "4     0  ...        0.0        0.0        0.0        1.0        0.0   \n",
      "\n",
      "   month_oct  month_sep  poutcome_other  poutcome_success  poutcome_unknown  \n",
      "0        0.0        0.0             0.0               0.0               1.0  \n",
      "1        0.0        0.0             0.0               0.0               1.0  \n",
      "2        0.0        0.0             0.0               0.0               1.0  \n",
      "3        0.0        0.0             0.0               0.0               1.0  \n",
      "4        0.0        0.0             0.0               0.0               1.0  \n",
      "\n",
      "[5 rows x 42 columns]\n",
      "Y_encoded series\n",
      "0    0\n",
      "1    0\n",
      "2    0\n",
      "3    0\n",
      "4    0\n",
      "dtype: int32\n"
     ]
    }
   ],
   "source": [
    "X_binary_cols = ['default', 'housing', 'loan']\n",
    "X_cat_cols = [col for col in X.select_dtypes(include=['object']).columns if col not in X_binary_cols]\n",
    "# print(\"cat cols: \", X_cat_cols)\n",
    "\n",
    "# Encoding X columns\n",
    "le = LabelEncoder()\n",
    "for col in X_binary_cols:\n",
    "    X[col] = le.fit_transform(X[col])\n",
    "\n",
    "encoder = OneHotEncoder(drop='first', sparse_output=False)\n",
    "X_encodedCat = encoder.fit_transform(X[X_cat_cols])\n",
    "\n",
    "#Concatenate both binary and cat_cols\n",
    "# 1) One-hot → DataFrame with names and aligned index\n",
    "encoded_cat_df = pd.DataFrame(\n",
    "    X_encodedCat,\n",
    "    columns=encoder.get_feature_names_out(X_cat_cols),\n",
    "    index=X.index\n",
    ")\n",
    "\n",
    "# 2) Base = X minus the original binary + categorical columns\n",
    "X_base = X.drop(columns=X_binary_cols + X_cat_cols)\n",
    "\n",
    "# 3) Concatenate: base (numeric etc.) + encoded binary (already 0/1 in X) + one-hot cats\n",
    "X_encoded = pd.concat([X_base, X[X_binary_cols], encoded_cat_df], axis=1)\n",
    "\n",
    "\n",
    "print(X_encoded.shape)\n",
    "print(X_encoded.head())\n",
    "\n",
    "#encode Y \n",
    "Y_encoded = y = pd.Series(le.fit_transform(Y))\n",
    "print(\"Y_encoded series\")\n",
    "print(Y_encoded.head())"
   ]
  },
  {
   "cell_type": "code",
   "execution_count": 155,
   "id": "3a0be871-946a-4346-9dd3-001981f78eae",
   "metadata": {
    "collapsed": true,
    "jupyter": {
     "outputs_hidden": true
    },
    "scrolled": true
   },
   "outputs": [
    {
     "name": "stdout",
     "output_type": "stream",
     "text": [
      "<class 'pandas.core.frame.DataFrame'>\n",
      "RangeIndex: 45211 entries, 0 to 45210\n",
      "Data columns (total 42 columns):\n",
      " #   Column               Non-Null Count  Dtype  \n",
      "---  ------               --------------  -----  \n",
      " 0   age                  45211 non-null  int64  \n",
      " 1   balance              45211 non-null  int64  \n",
      " 2   day                  45211 non-null  int64  \n",
      " 3   duration             45211 non-null  int64  \n",
      " 4   campaign             45211 non-null  int64  \n",
      " 5   pdays                45211 non-null  int64  \n",
      " 6   previous             45211 non-null  int64  \n",
      " 7   default              45211 non-null  int32  \n",
      " 8   housing              45211 non-null  int32  \n",
      " 9   loan                 45211 non-null  int32  \n",
      " 10  job_blue-collar      45211 non-null  float64\n",
      " 11  job_entrepreneur     45211 non-null  float64\n",
      " 12  job_housemaid        45211 non-null  float64\n",
      " 13  job_management       45211 non-null  float64\n",
      " 14  job_retired          45211 non-null  float64\n",
      " 15  job_self-employed    45211 non-null  float64\n",
      " 16  job_services         45211 non-null  float64\n",
      " 17  job_student          45211 non-null  float64\n",
      " 18  job_technician       45211 non-null  float64\n",
      " 19  job_unemployed       45211 non-null  float64\n",
      " 20  job_unknown          45211 non-null  float64\n",
      " 21  marital_married      45211 non-null  float64\n",
      " 22  marital_single       45211 non-null  float64\n",
      " 23  education_secondary  45211 non-null  float64\n",
      " 24  education_tertiary   45211 non-null  float64\n",
      " 25  education_unknown    45211 non-null  float64\n",
      " 26  contact_telephone    45211 non-null  float64\n",
      " 27  contact_unknown      45211 non-null  float64\n",
      " 28  month_aug            45211 non-null  float64\n",
      " 29  month_dec            45211 non-null  float64\n",
      " 30  month_feb            45211 non-null  float64\n",
      " 31  month_jan            45211 non-null  float64\n",
      " 32  month_jul            45211 non-null  float64\n",
      " 33  month_jun            45211 non-null  float64\n",
      " 34  month_mar            45211 non-null  float64\n",
      " 35  month_may            45211 non-null  float64\n",
      " 36  month_nov            45211 non-null  float64\n",
      " 37  month_oct            45211 non-null  float64\n",
      " 38  month_sep            45211 non-null  float64\n",
      " 39  poutcome_other       45211 non-null  float64\n",
      " 40  poutcome_success     45211 non-null  float64\n",
      " 41  poutcome_unknown     45211 non-null  float64\n",
      "dtypes: float64(32), int32(3), int64(7)\n",
      "memory usage: 14.0 MB\n"
     ]
    }
   ],
   "source": [
    "X_encoded.info()"
   ]
  },
  {
   "cell_type": "markdown",
   "id": "7932ab89-7564-4019-95ca-764dc1cdcc2d",
   "metadata": {},
   "source": [
    "### Data partitioning between training, validation and test. "
   ]
  },
  {
   "cell_type": "raw",
   "id": "588f8856-fff1-4695-8207-054fea4eb988",
   "metadata": {},
   "source": [
    "I should split into test and train before scaling so that there is no data leakage. I should also further split the training data into training and validation "
   ]
  },
  {
   "cell_type": "code",
   "execution_count": 157,
   "id": "4999cf39-f7eb-4f1a-9c96-44736bf36178",
   "metadata": {
    "collapsed": true,
    "jupyter": {
     "outputs_hidden": true
    }
   },
   "outputs": [],
   "source": [
    "# 20% test, 80% train + val\n",
    "X_trval, X_test, y_trval, y_test = train_test_split(\n",
    "    X_encoded, Y_encoded, test_size=0.2, random_state=42, stratify=y\n",
    ")\n",
    "\n",
    "# 25% of training data for validation while 75% of training data for actual training\n",
    "X_train, X_val, y_train, y_val = train_test_split(\n",
    "    X_trval, y_trval, test_size=0.25, random_state=42, stratify=y_trval\n",
    ")\n",
    "\n",
    "scaler = StandardScaler()\n",
    "X_train_scaled = scaler.fit_transform(X_train)  # fit + transform training\n",
    "X_test_scaled = scaler.transform(X_test)        # transform test only\n"
   ]
  },
  {
   "cell_type": "markdown",
   "id": "2b0f0ff4-ba4f-4bd1-bc2b-48ca77e2e914",
   "metadata": {},
   "source": [
    "### Training the model and predicting y"
   ]
  },
  {
   "cell_type": "code",
   "execution_count": 159,
   "id": "412b0c6d-92bd-4cfd-9d75-adc1512f1bb9",
   "metadata": {
    "collapsed": true,
    "jupyter": {
     "outputs_hidden": true
    }
   },
   "outputs": [],
   "source": [
    "# Model (balanced handles class imbalance; increase max_iter for convergence)\n",
    "logreg = LogisticRegression(max_iter=1000, class_weight='balanced', solver='lbfgs')\n",
    "logreg.fit(X_train_scaled, y_train)\n",
    "\n",
    "# Predictions\n",
    "y_pred  = logreg.predict(X_test_scaled) #for: accuracy, precision, recall, F1, confusion matrix, classification report.\n",
    "y_proba = logreg.predict_proba(X_test_scaled)[:, 1] #for: ROC curve & ROC-AUC (and any custom-threshold analysis).\n",
    "\n"
   ]
  },
  {
   "cell_type": "markdown",
   "id": "140c09d2-800b-4d6e-99c5-6cf18a624042",
   "metadata": {},
   "source": [
    "### Evaluating the model "
   ]
  },
  {
   "cell_type": "raw",
   "id": "50107052-7006-4e96-ac75-ed2f8ad94878",
   "metadata": {},
   "source": [
    "We chose PR-AUC and F1 (with precision/recall and a confusion matrix) because the dataset is imbalanced—“no” dominates—so accuracy and even ROC-AUC can look good while the model still misses most true “yes” cases. PR-AUC focuses on how well we retrieve the rare positives across all thresholds, while F1 summarizes the precision–recall trade-off at the operating point we care about. The confusion matrix allows use to see the TP/FP/FN/TN counts. We still report ROC-AUC for completeness and comparison, but rely on PR-AUC/F1 to judge real utility for this marketing task.\n",
    "\n"
   ]
  },
  {
   "cell_type": "code",
   "execution_count": 161,
   "id": "c58e5696-4909-4903-9c0b-d4671f78748f",
   "metadata": {
    "collapsed": true,
    "jupyter": {
     "outputs_hidden": true
    }
   },
   "outputs": [
    {
     "name": "stdout",
     "output_type": "stream",
     "text": [
      "Accuracy : 0.8457\n",
      "Precision: 0.4185\n",
      "Recall   : 0.8176\n",
      "F1-score : 0.5536\n",
      "\n",
      "ROC AUC  : 0.9079\n",
      "PR  AUC  : 0.5371\n",
      "\n",
      "\n",
      "\n"
     ]
    },
    {
     "data": {
      "image/png": "[encoded data removed]",
      "text/plain": [
       "<Figure size 640x480 with 2 Axes>"
      ]
     },
     "metadata": {},
     "output_type": "display_data"
    }
   ],
   "source": [
    "\n",
    "# Choose a decision threshold (default 0.5)\n",
    "threshold = 0.5 # is a hyperparameter that can be tuned to boost precision and recall \n",
    "y_pred = (y_proba >= threshold).astype(int)\n",
    "\n",
    "# Metrics based on class labels (using y_pred)\n",
    "acc  = accuracy_score(y_test, y_pred)\n",
    "prec = precision_score(y_test, y_pred, zero_division=0)\n",
    "rec  = recall_score(y_test, y_pred, zero_division=0)\n",
    "f1   = f1_score(y_test, y_pred, zero_division=0)\n",
    "cm   = confusion_matrix(y_test, y_pred)\n",
    "\n",
    "# Threshold-free metrics based on probabilities (use y_proba)\n",
    "roc_auc = roc_auc_score(y_test, y_proba)\n",
    "pr_auc  = average_precision_score(y_test, y_proba)  # aka AP; PR-AUC\n",
    "\n",
    "print(f\"Accuracy : {acc:.4f}\")\n",
    "print(f\"Precision: {prec:.4f}\")\n",
    "print(f\"Recall   : {rec:.4f}\")\n",
    "print(f\"F1-score : {f1:.4f}\\n\")\n",
    "print(f\"ROC AUC  : {roc_auc:.4f}\")\n",
    "print(f\"PR  AUC  : {pr_auc:.4f}\\n\\n\\n\")\n",
    "\n",
    "# Confusion matrix\n",
    "plt.figure()\n",
    "sns.heatmap(cm, annot=True, fmt='d', cmap='Blues',\n",
    "            xticklabels=['Pred: No', 'Pred: Yes'],\n",
    "            yticklabels=['Actual: No', 'Actual: Yes'])\n",
    "plt.xlabel('Predicted'); plt.ylabel('Actual'); plt.title('Confusion Matrix')\n",
    "plt.show()\n"
   ]
  },
  {
   "cell_type": "raw",
   "id": "60d56d1a-3406-4b83-b791-5a96a5b03b73",
   "metadata": {},
   "source": [
    "Accuracy may be misleading as the dataset is imbalanced as it has a lot of \"no's\". Precision tell us how many false positives there were. Since the precision score is relatively low, it means that there were a lot of false positives. It further implies that the accuracy is misleading. Similarly, Recall has a relatively high score (it measures the number of true positives we were able to predict) because the dataset naturally has a lot of \"yes's.\" F1 (the harmonic mean of precision and recall) tells how well the model balances recall and precision at the threshold i have set.\n",
    "\n",
    "Moreover, the ROC-AUC is the probability a random positive gets a higher score than a random negative. A high ROC-AUC score tells us that if you pick one random subscriber and one random non-subscriber, the model assigns the subscriber a higher score about 90% of the time. This is because ROC is insensitive to the large number of true negatives. PR-AUC tells us how well the model retrieves the positive class across all thresholds, focusing on precision (few false positives) and recall (few misses). It ignores true negatives, so it’s ideal for imbalanced data like this one.\n",
    "\n",
    " The confusion matrix allows us to see the TP/FP/FN/TN counts.\n",
    "\n",
    " The above scores tell me that the model is recall-heavy — good at finding subscribers, but with many false positives. "
   ]
  },
  {
   "cell_type": "markdown",
   "id": "8aa4959f-4187-49dc-9f2a-35ad601497e8",
   "metadata": {},
   "source": [
    "## Q2.  Have you used any hyperparameter tuning while building the model in Q1? If yes,  then plot  the  performances  that were obtained at different steps of optimisation. Otherwise, create an optimised model and compare performance with Q1."
   ]
  },
  {
   "cell_type": "raw",
   "id": "50103d5b-f431-4fc9-8bc1-e30df1ddb54b",
   "metadata": {},
   "source": [
    "From Q1, I do have these hyperparameters already:\n",
    "max_iterations : this one is already at a modest level so adjusting it won't really optimize the model significantly\n",
    "class_weight: it is set to 'balanced' which is better for imbalance classes (in my case)\n",
    "solver: it is currently set to 'lbfgs' . the model can behave differently with different solver types. \n",
    "Decision threshold (post-training): moves the precision/recall trade-off; crucial when positives are rare.\n",
    "\n",
    "This is how I will be tuning the parameters and comparing using a gridsearch to find the most optimal hyperparameters for my model. I will use only the PR-AUC as the evaluation metric for validation as it is the most important one in my case. "
   ]
  },
  {
   "cell_type": "code",
   "execution_count": 178,
   "id": "d331e53a-2d0b-4fcf-a000-281b31cf18aa",
   "metadata": {
    "collapsed": true,
    "jupyter": {
     "outputs_hidden": true
    }
   },
   "outputs": [
    {
     "data": {
      "text/html": [
       "<div>\n",
       "<style scoped>\n",
       "    .dataframe tbody tr th:only-of-type {\n",
       "        vertical-align: middle;\n",
       "    }\n",
       "\n",
       "    .dataframe tbody tr th {\n",
       "        vertical-align: top;\n",
       "    }\n",
       "\n",
       "    .dataframe thead th {\n",
       "        text-align: right;\n",
       "    }\n",
       "</style>\n",
       "<table border=\"1\" class=\"dataframe\">\n",
       "  <thead>\n",
       "    <tr style=\"text-align: right;\">\n",
       "      <th></th>\n",
       "      <th>solver</th>\n",
       "      <th>class_weight</th>\n",
       "      <th>max_iter</th>\n",
       "      <th>val_PR_AUC</th>\n",
       "    </tr>\n",
       "  </thead>\n",
       "  <tbody>\n",
       "    <tr>\n",
       "      <th>0</th>\n",
       "      <td>lbfgs</td>\n",
       "      <td>None</td>\n",
       "      <td>300</td>\n",
       "      <td>0.555917</td>\n",
       "    </tr>\n",
       "    <tr>\n",
       "      <th>1</th>\n",
       "      <td>lbfgs</td>\n",
       "      <td>None</td>\n",
       "      <td>1000</td>\n",
       "      <td>0.555917</td>\n",
       "    </tr>\n",
       "    <tr>\n",
       "      <th>2</th>\n",
       "      <td>liblinear</td>\n",
       "      <td>None</td>\n",
       "      <td>300</td>\n",
       "      <td>0.555908</td>\n",
       "    </tr>\n",
       "    <tr>\n",
       "      <th>3</th>\n",
       "      <td>liblinear</td>\n",
       "      <td>None</td>\n",
       "      <td>1000</td>\n",
       "      <td>0.555908</td>\n",
       "    </tr>\n",
       "    <tr>\n",
       "      <th>4</th>\n",
       "      <td>lbfgs</td>\n",
       "      <td>balanced</td>\n",
       "      <td>300</td>\n",
       "      <td>0.549203</td>\n",
       "    </tr>\n",
       "    <tr>\n",
       "      <th>5</th>\n",
       "      <td>lbfgs</td>\n",
       "      <td>balanced</td>\n",
       "      <td>1000</td>\n",
       "      <td>0.549203</td>\n",
       "    </tr>\n",
       "    <tr>\n",
       "      <th>6</th>\n",
       "      <td>liblinear</td>\n",
       "      <td>balanced</td>\n",
       "      <td>300</td>\n",
       "      <td>0.549168</td>\n",
       "    </tr>\n",
       "    <tr>\n",
       "      <th>7</th>\n",
       "      <td>liblinear</td>\n",
       "      <td>balanced</td>\n",
       "      <td>1000</td>\n",
       "      <td>0.549168</td>\n",
       "    </tr>\n",
       "  </tbody>\n",
       "</table>\n",
       "</div>"
      ],
      "text/plain": [
       "      solver class_weight  max_iter  val_PR_AUC\n",
       "0      lbfgs         None       300    0.555917\n",
       "1      lbfgs         None      1000    0.555917\n",
       "2  liblinear         None       300    0.555908\n",
       "3  liblinear         None      1000    0.555908\n",
       "4      lbfgs     balanced       300    0.549203\n",
       "5      lbfgs     balanced      1000    0.549203\n",
       "6  liblinear     balanced       300    0.549168\n",
       "7  liblinear     balanced      1000    0.549168"
      ]
     },
     "execution_count": 178,
     "metadata": {},
     "output_type": "execute_result"
    }
   ],
   "source": [
    "import itertools\n",
    "\n",
    "param_grid = {\n",
    "    'solver': ['lbfgs', 'liblinear'],\n",
    "    'class_weight': [None, 'balanced'],\n",
    "    'max_iter': [300, 1000],\n",
    "}\n",
    "\n",
    "results = []\n",
    "\n",
    "for solver, class_weight, max_iter in itertools.product(\n",
    "        param_grid['solver'], param_grid['class_weight'], param_grid['max_iter']):\n",
    "\n",
    "    pipe = Pipeline([\n",
    "        ('scaler', StandardScaler()),\n",
    "        ('clf', LogisticRegression(solver=solver,\n",
    "                                   class_weight=class_weight,\n",
    "                                   max_iter=max_iter))\n",
    "    ])\n",
    "\n",
    "    # Train ONLY on training data\n",
    "    pipe.fit(X_train, y_train)\n",
    "\n",
    "    # Validate ONLY on X_trval, y_trval\n",
    "    proba_val = pipe.predict_proba(X_trval)[:, 1]\n",
    "    pr_auc = average_precision_score(y_trval, proba_val)\n",
    "\n",
    "    results.append({\n",
    "        'solver': solver,\n",
    "        'class_weight': class_weight if class_weight is not None else 'None',\n",
    "        'max_iter': max_iter,\n",
    "        'val_PR_AUC': pr_auc\n",
    "    })\n",
    "\n",
    "\n",
    "# Neat table sorted by PR-AUC (higher is better)\n",
    "df_results = pd.DataFrame(results).sort_values('val_PR_AUC', ascending=False).reset_index(drop=True)\n",
    "df_results\n"
   ]
  },
  {
   "cell_type": "markdown",
   "id": "dd4a16f5-0952-4aaa-9b2e-852de0349ed9",
   "metadata": {},
   "source": [
    "### Comparing results with different hyperparameters and with q1\n"
   ]
  },
  {
   "cell_type": "raw",
   "id": "f8c43faa-0098-4cbe-9342-58cf55d49e05",
   "metadata": {},
   "source": [
    "For Q1, we had use this parameter combination {lbfgs\tbalanced\t1000\t0.549203}. From tuning the hyperparameters we can see that the best model is {lbfgs\tNone\t300\t0.555917}. These differences are insignificant and they occur due to sampling and CV splits - so they cant be neglected. We will go forward with the model which is theoretically more appropriate - {lbfgs\tbalanced\t300\t0.549203}\n",
    "\n",
    "Conclusion: After tuning, the best model achieved a PR-AUC of 0.556 compared to 0.549 for the baseline. The improvement was very small and not statistically significant. Since the baseline model applied class_weight='balanced', which is more appropriate for imbalanced data, we retained the baseline model for further analysis."
   ]
  },
  {
   "cell_type": "code",
   "execution_count": 185,
   "id": "2cf47456-5898-417f-ab94-6640631d0572",
   "metadata": {
    "collapsed": true,
    "jupyter": {
     "outputs_hidden": true
    }
   },
   "outputs": [
    {
     "name": "stdout",
     "output_type": "stream",
     "text": [
      "=== Baseline Model: Threshold tuning on Validation Set ===\n",
      "    threshold  precision  recall      f1\n",
      "0        0.05     0.1388  0.9972  0.2436\n",
      "1        0.10     0.1683  0.9953  0.2879\n",
      "2        0.15     0.2036  0.9877  0.3376\n",
      "3        0.20     0.2405  0.9735  0.3857\n",
      "4        0.25     0.2764  0.9556  0.4288\n",
      "5        0.30     0.3078  0.9386  0.4636\n",
      "6        0.35     0.3377  0.9093  0.4924\n",
      "7        0.40     0.3649  0.8819  0.5162\n",
      "8        0.45     0.3903  0.8526  0.5355\n",
      "9        0.50     0.4153  0.8138  0.5500\n",
      "10       0.55     0.4387  0.7873  0.5634\n",
      "11       0.60     0.4707  0.7524  0.5791\n",
      "12       0.65     0.4915  0.7127  0.5818\n",
      "13       0.70     0.5147  0.6635  0.5797\n",
      "14       0.75     0.5462  0.6087  0.5758\n",
      "15       0.80     0.5816  0.5624  0.5718\n",
      "16       0.85     0.6038  0.4868  0.5390\n",
      "17       0.90     0.6379  0.4045  0.4951\n",
      "18       0.95     0.6644  0.2788  0.3928\n",
      "\n",
      "Best threshold: 0.65 (F1=0.5818, Precision=0.4915, Recall=0.7127)\n"
     ]
    }
   ],
   "source": [
    "\n",
    "# ---- 1. Train baseline model on training data ----\n",
    "baseline_model = Pipeline([\n",
    "    ('scaler', StandardScaler()),\n",
    "    ('clf', LogisticRegression(\n",
    "        solver='lbfgs',\n",
    "        class_weight='balanced',\n",
    "        max_iter=1000\n",
    "    ))\n",
    "])\n",
    "baseline_model.fit(X_train, y_train)\n",
    "\n",
    "# ---- 2. Get predicted probabilities on validation set ----\n",
    "val_proba = baseline_model.predict_proba(X_val)[:, 1]\n",
    "\n",
    "# ---- 3. Sweep thresholds and compute Precision/Recall/F1 ----\n",
    "thresholds = np.linspace(0.05, 0.95, 19)  # from 0.05 to 0.95 in steps of 0.05\n",
    "records = []\n",
    "for t in thresholds:\n",
    "    y_pred = (val_proba >= t).astype(int)\n",
    "    prec = precision_score(y_val, y_pred, zero_division=0)\n",
    "    rec  = recall_score(y_val, y_pred, zero_division=0)\n",
    "    f1   = f1_score(y_val, y_pred, zero_division=0)\n",
    "    records.append({'threshold': t, 'precision': prec, 'recall': rec, 'f1': f1})\n",
    "\n",
    "# ---- 4. Find best threshold by F1 ----\n",
    "results = pd.DataFrame(records)\n",
    "best_row = results.loc[results['f1'].idxmax()]\n",
    "best_threshold = best_row['threshold']\n",
    "\n",
    "print(\"=== Baseline Model: Threshold tuning on Validation Set ===\")\n",
    "print(results.round(4))\n",
    "print(f\"\\nBest threshold: {best_threshold:.2f} \"\n",
    "      f\"(F1={best_row['f1']:.4f}, \"\n",
    "      f\"Precision={best_row['precision']:.4f}, \"\n",
    "      f\"Recall={best_row['recall']:.4f})\")\n",
    "\n",
    "\n"
   ]
  },
  {
   "cell_type": "raw",
   "id": "1bfc33e7-6962-4351-9894-0d4b4471c4e4",
   "metadata": {},
   "source": [
    "# ---- 5. Apply best threshold on TEST set ----\n",
    "test_proba = baseline_model.predict_proba(X_test)[:, 1]\n",
    "test_pred  = (test_proba >= best_threshold).astype(int)\n",
    "\n",
    "test_prec = precision_score(y_test, test_pred, zero_division=0)\n",
    "test_rec  = recall_score(y_test, test_pred, zero_division=0)\n",
    "test_f1   = f1_score(y_test, test_pred, zero_division=0)\n",
    "\n",
    "print(\"\\n=== Test Set (with tuned threshold) ===\")\n",
    "print(f\"Precision: {test_prec:.4f}\")\n",
    "print(f\"Recall   : {test_rec:.4f}\")\n",
    "print(f\"F1-score : {test_f1:.4f}\")"
   ]
  },
  {
   "cell_type": "markdown",
   "id": "bc8b3a13-5862-44d4-9d01-5bab16cfa3a5",
   "metadata": {},
   "source": [
    "### Q3. Create  two  regularized  logistic  regression   models  for  the predicting the target variable using the evaluation setting that you have used Q1 and report the performance.|"
   ]
  },
  {
   "cell_type": "raw",
   "id": "2dc350cf-ff73-4656-9552-1402b55ad28f",
   "metadata": {},
   "source": [
    "I have created two regularized logistic regression models - L2 Ridge and L1 Lasso. I have trained the models using the training dataset and evaluated the results using the test dataset. I have outputted all evaluated metrics as well as the confusion matrix which I had initially used to evaluate the baseline. "
   ]
  },
  {
   "cell_type": "markdown",
   "id": "406226dd-103e-48f3-a4bc-f2244563d450",
   "metadata": {},
   "source": [
    "## L2 (Ridge) "
   ]
  },
  {
   "cell_type": "code",
   "execution_count": 189,
   "id": "8d5f0dfa-88c0-4c11-bbc1-3b56f625c919",
   "metadata": {
    "collapsed": true,
    "jupyter": {
     "outputs_hidden": true
    }
   },
   "outputs": [
    {
     "name": "stdout",
     "output_type": "stream",
     "text": [
      "=== L2-Regularised Logistic Regression (Ridge) ===\n",
      "Accuracy : 0.8457\n",
      "Precision: 0.4185\n",
      "Recall   : 0.8176\n",
      "F1-score : 0.5536\n",
      "ROC AUC  : 0.9079\n",
      "PR  AUC  : 0.5371\n",
      "\n",
      "Classification Report:\n",
      "               precision    recall  f1-score   support\n",
      "\n",
      "           0     0.9723    0.8495    0.9068      7985\n",
      "           1     0.4185    0.8176    0.5536      1058\n",
      "\n",
      "    accuracy                         0.8457      9043\n",
      "   macro avg     0.6954    0.8335    0.7302      9043\n",
      "weighted avg     0.9075    0.8457    0.8654      9043\n",
      "\n"
     ]
    },
    {
     "data": {
      "image/png": "[encoded data removed]",
      "text/plain": [
       "<Figure size 640x480 with 2 Axes>"
      ]
     },
     "metadata": {},
     "output_type": "display_data"
    }
   ],
   "source": [
    "# ---- Train L2-regularised logistic regression (Ridge) ----\n",
    "l2_model = Pipeline([\n",
    "    ('scaler', StandardScaler()),\n",
    "    ('clf', LogisticRegression(\n",
    "        penalty='l2',       # L2 regularisation\n",
    "        solver='lbfgs',     # supports L2\n",
    "        class_weight='balanced',  # still account for imbalance\n",
    "        max_iter=1000,\n",
    "        C=1.0               # regularisation strength (default = 1.0)\n",
    "    ))\n",
    "])\n",
    "\n",
    "l2_model.fit(X_train, y_train)\n",
    "\n",
    "# ---- Predict on test set ----\n",
    "y_proba = l2_model.predict_proba(X_test)[:, 1]\n",
    "y_pred  = (y_proba >= 0.5).astype(int)  # default threshold 0.5\n",
    "\n",
    "# ---- Metrics ----\n",
    "acc  = accuracy_score(y_test, y_pred)\n",
    "prec = precision_score(y_test, y_pred, zero_division=0)\n",
    "rec  = recall_score(y_test, y_pred, zero_division=0)\n",
    "f1   = f1_score(y_test, y_pred, zero_division=0)\n",
    "roc  = roc_auc_score(y_test, y_proba)\n",
    "pr   = average_precision_score(y_test, y_proba)\n",
    "\n",
    "print(\"=== L2-Regularised Logistic Regression (Ridge) ===\")\n",
    "print(f\"Accuracy : {acc:.4f}\")\n",
    "print(f\"Precision: {prec:.4f}\")\n",
    "print(f\"Recall   : {rec:.4f}\")\n",
    "print(f\"F1-score : {f1:.4f}\")\n",
    "print(f\"ROC AUC  : {roc:.4f}\")\n",
    "print(f\"PR  AUC  : {pr:.4f}\")\n",
    "print(\"\\nClassification Report:\\n\", classification_report(y_test, y_pred, digits=4))\n",
    "\n",
    "# ---- Confusion Matrix ----\n",
    "cm = confusion_matrix(y_test, y_pred)\n",
    "plt.figure()\n",
    "sns.heatmap(cm, annot=True, fmt='d', cmap='Blues',\n",
    "            xticklabels=['Pred: No', 'Pred: Yes'],\n",
    "            yticklabels=['Actual: No', 'Actual: Yes'])\n",
    "plt.xlabel('Predicted'); plt.ylabel('Actual'); plt.title('Confusion Matrix (L2)')\n",
    "plt.show()"
   ]
  },
  {
   "cell_type": "markdown",
   "id": "b5db978a-1d0c-4c5f-b23c-a99f59db3bd0",
   "metadata": {},
   "source": [
    "## L1 (Lasso)"
   ]
  },
  {
   "cell_type": "code",
   "execution_count": 192,
   "id": "6fc04d10-f757-4fe0-82b4-8e2137b4498c",
   "metadata": {
    "collapsed": true,
    "jupyter": {
     "outputs_hidden": true
    }
   },
   "outputs": [
    {
     "name": "stdout",
     "output_type": "stream",
     "text": [
      "=== L1-Regularised Logistic Regression (Lasso) ===\n",
      "Accuracy : 0.8456\n",
      "Precision: 0.4183\n",
      "Recall   : 0.8176\n",
      "F1-score : 0.5534\n",
      "ROC AUC  : 0.9080\n",
      "PR  AUC  : 0.5371\n",
      "\n",
      "Classification Report:\n",
      "               precision    recall  f1-score   support\n",
      "\n",
      "           0     0.9723    0.8493    0.9067      7985\n",
      "           1     0.4183    0.8176    0.5534      1058\n",
      "\n",
      "    accuracy                         0.8456      9043\n",
      "   macro avg     0.6953    0.8335    0.7301      9043\n",
      "weighted avg     0.9075    0.8456    0.8654      9043\n",
      "\n"
     ]
    },
    {
     "data": {
      "image/png": "[encoded data removed]",
      "text/plain": [
       "<Figure size 640x480 with 2 Axes>"
      ]
     },
     "metadata": {},
     "output_type": "display_data"
    }
   ],
   "source": [
    "# ---- Train L1-regularised logistic regression (Lasso) ----\n",
    "l1_model = Pipeline([\n",
    "    ('scaler', StandardScaler()),\n",
    "    ('clf', LogisticRegression(\n",
    "        penalty='l1',       # L1 regularisation\n",
    "        solver='liblinear', # required for L1\n",
    "        class_weight='balanced',  # handle imbalance\n",
    "        max_iter=1000,\n",
    "        C=1.0               # regularisation strength (default = 1.0)\n",
    "    ))\n",
    "])\n",
    "\n",
    "l1_model.fit(X_train, y_train)\n",
    "\n",
    "# ---- Predict on test set ----\n",
    "y_proba = l1_model.predict_proba(X_test)[:, 1]\n",
    "y_pred  = (y_proba >= 0.5).astype(int)  # default threshold 0.5\n",
    "\n",
    "# ---- Metrics ----\n",
    "acc  = accuracy_score(y_test, y_pred)\n",
    "prec = precision_score(y_test, y_pred, zero_division=0)\n",
    "rec  = recall_score(y_test, y_pred, zero_division=0)\n",
    "f1   = f1_score(y_test, y_pred, zero_division=0)\n",
    "roc  = roc_auc_score(y_test, y_proba)\n",
    "pr   = average_precision_score(y_test, y_proba)\n",
    "\n",
    "print(\"=== L1-Regularised Logistic Regression (Lasso) ===\")\n",
    "print(f\"Accuracy : {acc:.4f}\")\n",
    "print(f\"Precision: {prec:.4f}\")\n",
    "print(f\"Recall   : {rec:.4f}\")\n",
    "print(f\"F1-score : {f1:.4f}\")\n",
    "print(f\"ROC AUC  : {roc:.4f}\")\n",
    "print(f\"PR  AUC  : {pr:.4f}\")\n",
    "print(\"\\nClassification Report:\\n\", classification_report(y_test, y_pred, digits=4))\n",
    "\n",
    "# ---- Confusion Matrix ----\n",
    "cm = confusion_matrix(y_test, y_pred)\n",
    "plt.figure()\n",
    "sns.heatmap(cm, annot=True, fmt='d', cmap='Blues',\n",
    "            xticklabels=['Pred: No', 'Pred: Yes'],\n",
    "            yticklabels=['Actual: No', 'Actual: Yes'])\n",
    "plt.xlabel('Predicted'); plt.ylabel('Actual'); plt.title('Confusion Matrix (L1)')\n",
    "plt.show()"
   ]
  },
  {
   "cell_type": "markdown",
   "id": "599f9f40-e6c9-4406-b879-b16f70516cb7",
   "metadata": {},
   "source": [
    "### Comparing L1, L2 and Baseline models \n"
   ]
  },
  {
   "cell_type": "raw",
   "id": "3c603421-bad7-428d-ae4c-3596d0b1687e",
   "metadata": {},
   "source": [
    "Summary of the results:\n",
    "=== L2-Regularised Logistic Regression (Ridge) ===\n",
    "Accuracy : 0.8457\n",
    "Precision: 0.4185\n",
    "Recall   : 0.8176\n",
    "F1-score : 0.5536\n",
    "ROC AUC  : 0.9079\n",
    "PR  AUC  : 0.5371\n",
    "\n",
    "=== L1-Regularised Logistic Regression (Lasso) ===\n",
    "Accuracy : 0.8456\n",
    "Precision: 0.4183\n",
    "Recall   : 0.8176\n",
    "F1-score : 0.5534\n",
    "ROC AUC  : 0.9080\n",
    "PR  AUC  : 0.5371\n",
    "\n",
    "--- Baseline ----\n",
    "Accuracy : 0.8457\n",
    "Precision: 0.4185\n",
    "Recall   : 0.8176\n",
    "F1-score : 0.5536\n",
    "\n",
    "ROC AUC  : 0.9079\n",
    "PR  AUC  : 0.5371"
   ]
  },
  {
   "cell_type": "markdown",
   "id": "8f9657e8-e2b2-4756-8bca-79f88f4c137b",
   "metadata": {},
   "source": [
    "### Report of the performance "
   ]
  },
  {
   "cell_type": "raw",
   "id": "82561ca9-ebf0-45bd-8fbd-0ab98398fc4f",
   "metadata": {},
   "source": [
    "The baseline, L2, and L1 logistic regression models all achieved nearly identical results (Accuracy ≈ 0.846, F1 ≈ 0.554, ROC-AUC ≈ 0.908, PR-AUC ≈ 0.537). The improvements from regularisation were negligible. This means that the baseline model was already well-calibrated. L2 remains a theoretically appropriate choice for stabilising coefficients, while L1 may be useful if feature selection is desired, though it does not improve predictive performance here"
   ]
  },
  {
   "cell_type": "markdown",
   "id": "a310be85-20c0-4fa5-afe6-2ac811d93b14",
   "metadata": {},
   "source": [
    "## Q4. Compare the performance of the three models (Q1 and Q3), explain which model is good and why."
   ]
  },
  {
   "cell_type": "raw",
   "id": "40a12b74-f83a-4920-a407-9577999ae189",
   "metadata": {},
   "source": [
    "I have already compared the performance in Q3 above. All the models in terms of performance as they all reported similar performance. However, if we have to pick a final model to go forward with, it would be between baseline and L2. Baseline is considered good enough for such a logistic regression task. However, L2 is theoretically more appropriate as it is made to prevents over-fitting by restricting the feature weights from taking very large value. It does so by shrinks all coefficients smoothly but keeps every feature. "
   ]
  },
  {
   "cell_type": "markdown",
   "id": "67ebc41d-b2ec-4083-ac98-48c73af441aa",
   "metadata": {},
   "source": [
    "## Q5. Continue from question 4, with the same evaluation setting, use KNN and tune K on the training set, report the performance on the test set and the optimal K. Compare KNN with all the above logistic  regression  models,  consider  the  following  aspects: number  of  trainable  parameters,  training  time  and  model performance.  Explain  why  KNN  is  worse/better  than  logistic regression. "
   ]
  },
  {
   "cell_type": "markdown",
   "id": "71e65872-9e1b-4f26-a11c-0e92c8a8fc73",
   "metadata": {},
   "source": [
    "### Buiding a KNN model with different k values and validating using validation dataset to find the optimal k"
   ]
  },
  {
   "cell_type": "code",
   "execution_count": 219,
   "id": "dafb3776-e9a3-4c13-a730-000997362c6d",
   "metadata": {},
   "outputs": [
    {
     "name": "stdout",
     "output_type": "stream",
     "text": [
      "\n",
      "=== KNN validation results (sorted by PR-AUC) ===\n",
      "      K  val_PR_AUC  val_ROC_AUC\n",
      "0    31      0.5064       0.8796\n",
      "1    61      0.5038       0.8836\n",
      "2    51      0.5026       0.8816\n",
      "3    41      0.5026       0.8814\n",
      "4    21      0.4998       0.8733\n",
      "5    81      0.4973       0.8832\n",
      "6   101      0.4920       0.8816\n",
      "7   131      0.4903       0.8823\n",
      "8   161      0.4894       0.8815\n",
      "9    15      0.4871       0.8641\n",
      "10   11      0.4701       0.8547\n",
      "11    9      0.4594       0.8481\n",
      "12    7      0.4392       0.8353\n",
      "13    5      0.4093       0.8136\n",
      "14    3      0.3528       0.7644\n",
      "15    1      0.2541       0.6720\n",
      "\n",
      "Best K (by PR-AUC on validation): 31\n"
     ]
    }
   ],
   "source": [
    "from sklearn.neighbors import KNeighborsClassifier\n",
    "from sklearn.pipeline import Pipeline\n",
    "\n",
    "# Candidate K values\n",
    "k_values = [1, 3, 5, 7, 9, 11, 15, 21, 31, 41, 51, 61, 81, 101, 131, 161]\n",
    "\n",
    "knn_results = []\n",
    "\n",
    "for k in k_values:\n",
    "    knn_pipe = Pipeline([\n",
    "        ('scaler', StandardScaler()),\n",
    "        ('clf', KNeighborsClassifier(n_neighbors=k, weights='uniform',\n",
    "                                     metric='minkowski', p=2))\n",
    "    ])\n",
    "    # Fit on training only\n",
    "    knn_pipe.fit(X_train, y_train)\n",
    "\n",
    "    # Validate on X_val to pick best K\n",
    "    val_proba = knn_pipe.predict_proba(X_val)[:, 1]\n",
    "    pr_auc   = average_precision_score(y_val, val_proba)\n",
    "    roc_auc  = roc_auc_score(y_val, val_proba)\n",
    "\n",
    "    knn_results.append({\n",
    "        'K': k,\n",
    "        'val_PR_AUC': pr_auc,\n",
    "        'val_ROC_AUC': roc_auc\n",
    "    })\n",
    "\n",
    "# sorted results for K\n",
    "knn_df = pd.DataFrame(knn_results).sort_values('val_PR_AUC', ascending=False).reset_index(drop=True)\n",
    "print(\"\\n=== KNN validation results (sorted by PR-AUC) ===\")\n",
    "print(knn_df.round(4))\n",
    "\n",
    "# Select best K by PR-AUC \n",
    "best_k = int(knn_df.loc[0, 'K'])\n",
    "print(f\"\\nBest K (by PR-AUC on validation): {best_k}\")"
   ]
  },
  {
   "cell_type": "raw",
   "id": "d11f317c-76cd-4d2a-8a62-574ec29f1992",
   "metadata": {},
   "source": [
    "In KNN, K is the number of neighbours the algorithm looks at when deciding how to classify a new data point. Larger K means smoother decision boundaries but risk of underfitting while smaller k risks overfitting. \n",
    "\n",
    "From the results above, the highest PR-AUC was 0.5064 with a k-value of 31. It means that this k-value generalizes well and hence is the best one for our KNN model. "
   ]
  },
  {
   "cell_type": "markdown",
   "id": "89181b35-4bed-441c-8421-e8ab19445427",
   "metadata": {},
   "source": [
    "### Final evaluation using best k-value KNN on test data"
   ]
  },
  {
   "cell_type": "code",
   "execution_count": 228,
   "id": "bbfb1130-fef7-423d-825d-e7af25cef04d",
   "metadata": {},
   "outputs": [
    {
     "name": "stdout",
     "output_type": "stream",
     "text": [
      "\n",
      "=== Final KNN Evaluation (K=31) ===\n",
      "Accuracy : 0.8961\n",
      "Precision: 0.6528\n",
      "Recall   : 0.2382\n",
      "F1-score : 0.3490\n",
      "ROC AUC  : 0.8701\n",
      "PR  AUC  : 0.4909\n",
      "\n",
      "Classification Report:\n",
      "               precision    recall  f1-score   support\n",
      "\n",
      "           0     0.9069    0.9832    0.9435      7985\n",
      "           1     0.6528    0.2382    0.3490      1058\n",
      "\n",
      "    accuracy                         0.8961      9043\n",
      "   macro avg     0.7799    0.6107    0.6463      9043\n",
      "weighted avg     0.8772    0.8961    0.8740      9043\n",
      "\n"
     ]
    },
    {
     "data": {
      "image/png": "[encoded data removed]",
      "text/plain": [
       "<Figure size 640x480 with 2 Axes>"
      ]
     },
     "metadata": {},
     "output_type": "display_data"
    }
   ],
   "source": [
    "# --- Final KNN with K=31 ---\n",
    "knn_final = Pipeline([\n",
    "    ('scaler', StandardScaler()),\n",
    "    ('clf', KNeighborsClassifier(\n",
    "        n_neighbors=31,      # best K from validation\n",
    "        weights='uniform',   # you could also try 'distance'\n",
    "        metric='minkowski',  # Euclidean distance\n",
    "        p=2\n",
    "    ))\n",
    "])\n",
    "\n",
    "# Fit on train+val (X_trval)\n",
    "knn_final.fit(X_trval, y_trval)\n",
    "\n",
    "# Evaluate on Test set \n",
    "y_proba = knn_final.predict_proba(X_test)[:, 1]\n",
    "y_pred  = (y_proba >= 0.5).astype(int)  # default threshold 0.5\n",
    "\n",
    "acc  = accuracy_score(y_test, y_pred)\n",
    "prec = precision_score(y_test, y_pred, zero_division=0)\n",
    "rec  = recall_score(y_test, y_pred, zero_division=0)\n",
    "f1   = f1_score(y_test, y_pred, zero_division=0)\n",
    "roc  = roc_auc_score(y_test, y_proba)\n",
    "pr   = average_precision_score(y_test, y_proba)\n",
    "\n",
    "print(\"\\n=== Final KNN Evaluation (K=31) ===\")\n",
    "print(f\"Accuracy : {acc:.4f}\")\n",
    "print(f\"Precision: {prec:.4f}\")\n",
    "print(f\"Recall   : {rec:.4f}\")\n",
    "print(f\"F1-score : {f1:.4f}\")\n",
    "print(f\"ROC AUC  : {roc:.4f}\")\n",
    "print(f\"PR  AUC  : {pr:.4f}\")\n",
    "print(\"\\nClassification Report:\\n\", classification_report(y_test, y_pred, digits=4))\n",
    "\n",
    "# Confusion Matrix\n",
    "cm = confusion_matrix(y_test, y_pred)\n",
    "plt.figure()\n",
    "sns.heatmap(cm, annot=True, fmt='d', cmap='Blues',\n",
    "            xticklabels=['Pred: No', 'Pred: Yes'],\n",
    "            yticklabels=['Actual: No', 'Actual: Yes'])\n",
    "plt.xlabel('Predicted'); plt.ylabel('Actual'); plt.title('Confusion Matrix (KNN, K=31)')\n",
    "plt.show()"
   ]
  },
  {
   "cell_type": "markdown",
   "id": "3b3e02a8-8a04-4419-aaa7-f2a9f7a1c067",
   "metadata": {},
   "source": [
    "### Comparing KNN results with baseline logistic regression and regularized logistic regression models "
   ]
  },
  {
   "cell_type": "raw",
   "id": "30e550d1-2113-4e84-ae2b-17ca80c66ca1",
   "metadata": {},
   "source": [
    "KNN achieved higher accuracy and precision but these values are misleading as the dataset is imbalanced. The metrics that are deterministic for the best model here are F1 and PR-AUC. For these metrics, Logistic regression consistently outperformed KNN making it the best model for this imbalanced dataset. "
   ]
  },
  {
   "cell_type": "raw",
   "id": "e8f19210-a398-430e-a153-b1aae32a10c4",
   "metadata": {},
   "source": [
    "Comparing these specific aspects: \n",
    "1) Number of trainable parameters - KNN has no trainable parameters while Logistic regression models actually learns parameters to capture relationships. This means that KNN has to store all training samples and use them during prediction which makes it more memory-hungry while Logictic regression is compact. \n",
    "\n",
    "2) Training time - KNN easily wins here as it does not require any \"training phase\" prior to prediction. However logistic regression's training is one time only, and the learnt parameter model can be used for prediction later now and the model scales better than KNN with large data. \n",
    "\n",
    "3) Performance - we have already compared that above and logistic regression reported better performance. "
   ]
  },
  {
   "cell_type": "code",
   "execution_count": null,
   "id": "26318afa-5794-4496-b127-3df7fffc5727",
   "metadata": {},
   "outputs": [],
   "source": []
  }
 ],
 "metadata": {
  "kernelspec": {
   "display_name": "Python (base)",
   "language": "python",
   "name": "base"
  },
  "language_info": {
   "codemirror_mode": {
    "name": "ipython",
    "version": 3
   },
   "file_extension": ".py",
   "mimetype": "text/x-python",
   "name": "python",
   "nbconvert_exporter": "python",
   "pygments_lexer": "ipython3",
   "version": "3.12.3"
  }
 },
 "nbformat": 4,
 "nbformat_minor": 5
}
